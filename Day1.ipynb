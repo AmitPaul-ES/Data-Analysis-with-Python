{
  "nbformat": 4,
  "nbformat_minor": 0,
  "metadata": {
    "colab": {
      "provenance": [],
      "authorship_tag": "ABX9TyMvFTegdpkC/cd3dtfaCarm",
      "include_colab_link": true
    },
    "kernelspec": {
      "name": "python3",
      "display_name": "Python 3"
    },
    "language_info": {
      "name": "python"
    }
  },
  "cells": [
    {
      "cell_type": "markdown",
      "metadata": {
        "id": "view-in-github",
        "colab_type": "text"
      },
      "source": [
        "<a href=\"https://colab.research.google.com/github/AmitPaul-ES/Data-Analysis-with-Python/blob/main/Day1.ipynb\" target=\"_parent\"><img src=\"https://colab.research.google.com/assets/colab-badge.svg\" alt=\"Open In Colab\"/></a>"
      ]
    },
    {
      "cell_type": "code",
      "execution_count": 1,
      "metadata": {
        "colab": {
          "base_uri": "https://localhost:8080/"
        },
        "id": "Bbs0hcwTY2tK",
        "outputId": "4a2bcd6b-94ee-4658-f0aa-499faa4193a0"
      },
      "outputs": [
        {
          "output_type": "stream",
          "name": "stdout",
          "text": [
            "\n",
            "Bangladesh\n",
            "USA\n",
            "Canada\n",
            "Australia\n",
            "New Zealand\n"
          ]
        }
      ],
      "source": [
        "print(\"\"\"\n",
        "Bangladesh\n",
        "USA\n",
        "Canada\n",
        "Australia\n",
        "New Zealand\"\"\")"
      ]
    },
    {
      "cell_type": "code",
      "source": [
        "num = 13\n",
        "den = 5\n",
        "quotient = num // den\n",
        "remainder = num % den\n",
        "\n",
        "print (\"Quotient: \", quotient)\n",
        "print (\"Remainder: \", remainder)"
      ],
      "metadata": {
        "colab": {
          "base_uri": "https://localhost:8080/"
        },
        "id": "MBMMIfs0ZTFU",
        "outputId": "caf8fbf4-4ae7-4994-af76-62b52f29699c"
      },
      "execution_count": 2,
      "outputs": [
        {
          "output_type": "stream",
          "name": "stdout",
          "text": [
            "Quotient:  2\n",
            "Remainder:  3\n"
          ]
        }
      ]
    },
    {
      "cell_type": "code",
      "source": [
        "A = 20\n",
        "B = 30\n",
        "addition = A + B\n",
        "subtraction = A - B\n",
        "multiplication = A * B\n",
        "division = A / B\n",
        "\n",
        "print(\"Addition: \", addition)\n",
        "print(\"Subtraction: \", subtraction)\n",
        "print(\"Multiplication: \", multiplication)\n",
        "print(\"Division: \", division)"
      ],
      "metadata": {
        "colab": {
          "base_uri": "https://localhost:8080/"
        },
        "id": "Ck5U3lGraNvH",
        "outputId": "b0fdb54f-c14f-4dfa-e6d8-36191eee13df"
      },
      "execution_count": 3,
      "outputs": [
        {
          "output_type": "stream",
          "name": "stdout",
          "text": [
            "Addition:  50\n",
            "Subtraction:  -10\n",
            "Multiplication:  600\n",
            "Division:  0.6666666666666666\n"
          ]
        }
      ]
    },
    {
      "cell_type": "code",
      "source": [
        "name = input(\"What is your name?\")\n",
        "print(\"Hello\", name)"
      ],
      "metadata": {
        "colab": {
          "base_uri": "https://localhost:8080/"
        },
        "id": "JhVSKDeLbRMZ",
        "outputId": "3c777237-ef0b-46de-cd73-cf256b76db62"
      },
      "execution_count": 4,
      "outputs": [
        {
          "output_type": "stream",
          "name": "stdout",
          "text": [
            "What is your name?Amit\n",
            "Hello Amit\n"
          ]
        }
      ]
    },
    {
      "cell_type": "code",
      "source": [
        "x = \"2\"\n",
        "y = \"4\"\n",
        "z = int(x) + int(y)\n",
        "print(z)\n"
      ],
      "metadata": {
        "colab": {
          "base_uri": "https://localhost:8080/"
        },
        "id": "Vyt9wwGebpWR",
        "outputId": "7e0dc05f-22b4-485a-8e16-e5c722c0f794"
      },
      "execution_count": 5,
      "outputs": [
        {
          "output_type": "stream",
          "name": "stdout",
          "text": [
            "6\n"
          ]
        }
      ]
    },
    {
      "cell_type": "code",
      "source": [
        "x = \"3\"\n",
        "x *= 3\n",
        "print(x)"
      ],
      "metadata": {
        "colab": {
          "base_uri": "https://localhost:8080/"
        },
        "id": "BRJZYyR7cBr8",
        "outputId": "87e5eac0-274c-48e4-a378-9f779b789426"
      },
      "execution_count": 6,
      "outputs": [
        {
          "output_type": "stream",
          "name": "stdout",
          "text": [
            "333\n"
          ]
        }
      ]
    },
    {
      "cell_type": "code",
      "source": [
        "hum = int(input(\"Enter today's humidity: \"))\n",
        "#hum_int = int(hum) # Convert the input string to an integer\n",
        "\n",
        "if 40 <= hum <= 60:\n",
        "  print(\"norm\")\n",
        "elif hum > 60:\n",
        "  print(\"High\")\n",
        "else :\n",
        "  print(\"Low\")"
      ],
      "metadata": {
        "colab": {
          "base_uri": "https://localhost:8080/"
        },
        "id": "GVgt17m4cj5_",
        "outputId": "39a99fc7-9e9a-48f4-afbc-641d6457fe5e"
      },
      "execution_count": 13,
      "outputs": [
        {
          "output_type": "stream",
          "name": "stdout",
          "text": [
            "Enter today's humidity: 67\n",
            "High\n"
          ]
        }
      ]
    }
  ]
}